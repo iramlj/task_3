{
  "nbformat": 4,
  "nbformat_minor": 0,
  "metadata": {
    "colab": {
      "name": "NLP.ipynb",
      "provenance": [],
      "collapsed_sections": []
    },
    "kernelspec": {
      "name": "python3",
      "display_name": "Python 3"
    }
  },
  "cells": [
    {
      "cell_type": "code",
      "metadata": {
        "id": "-Me8BgGEjgtt",
        "colab_type": "code",
        "colab": {
          "base_uri": "https://localhost:8080/",
          "height": 105
        },
        "outputId": "0d14b5a9-301b-4bc5-ea62-51025871b755"
      },
      "source": [
        "# installing fasttext\n",
        "pip install fasttext"
      ],
      "execution_count": 19,
      "outputs": [
        {
          "output_type": "stream",
          "text": [
            "Requirement already satisfied: fasttext in /usr/local/lib/python3.6/dist-packages (0.9.2)\n",
            "Requirement already satisfied: numpy in /usr/local/lib/python3.6/dist-packages (from fasttext) (1.18.3)\n",
            "Requirement already satisfied: pybind11>=2.2 in /usr/local/lib/python3.6/dist-packages (from fasttext) (2.5.0)\n",
            "Requirement already satisfied: setuptools>=0.7.0 in /usr/local/lib/python3.6/dist-packages (from fasttext) (46.1.3)\n"
          ],
          "name": "stdout"
        }
      ]
    },
    {
      "cell_type": "code",
      "metadata": {
        "id": "0EiT-mbvhPlf",
        "colab_type": "code",
        "colab": {
          "base_uri": "https://localhost:8080/",
          "height": 51
        },
        "outputId": "6ded17b3-0f54-4065-a10b-aee075202a8f"
      },
      "source": [
        "#importing packages\n",
        "import fasttext\n",
        "from sklearn.metrics import roc_auc_score\n",
        "import numpy as np\n",
        "import pandas as pd\n",
        "import csv\n",
        "import bz2\n",
        "from bz2 import decompress\n",
        "import string\n",
        "import nltk\n",
        "from nltk.corpus import stopwords\n",
        "nltk.download('stopwords')\n",
        "from nltk.stem.porter import PorterStemmer\n",
        "from sklearn.metrics import f1_score\n",
        "from sklearn.feature_extraction.text import TfidfVectorizer\n",
        "from sklearn.pipeline import Pipeline\n",
        "from sklearn.model_selection import train_test_split\n",
        "from sklearn.feature_extraction.text import TfidfTransformer\n",
        "from sklearn.feature_extraction.text import CountVectorizer\n",
        "from sklearn.svm import SVC\n",
        "from tensorflow.keras.preprocessing.text import Tokenizer, text_to_word_sequence\n",
        "from tensorflow.keras.preprocessing.sequence import pad_sequences\n",
        "from tensorflow.python.keras import models, layers, optimizers\n",
        "import tensorflow"
      ],
      "execution_count": 37,
      "outputs": [
        {
          "output_type": "stream",
          "text": [
            "[nltk_data] Downloading package stopwords to /root/nltk_data...\n",
            "[nltk_data]   Package stopwords is already up-to-date!\n"
          ],
          "name": "stdout"
        }
      ]
    },
    {
      "cell_type": "markdown",
      "metadata": {
        "id": "8a6nc96-Ud1x",
        "colab_type": "text"
      },
      "source": [
        "**Data Preparations**"
      ]
    },
    {
      "cell_type": "code",
      "metadata": {
        "id": "GGLQs1ckj1Md",
        "colab_type": "code",
        "colab": {}
      },
      "source": [
        "# unarchiving train & test data\n",
        "!bunzip2 test.ft.txt.bz2\n",
        "!bunzip2 train.ft.txt.bz2"
      ],
      "execution_count": 0,
      "outputs": []
    },
    {
      "cell_type": "code",
      "metadata": {
        "id": "yl9uAcPRT1M6",
        "colab_type": "code",
        "colab": {}
      },
      "source": [
        "# reading and preparing train & test data\n",
        "\n",
        "#train\n",
        "train_file = open('train.ft.txt')\n",
        "train_data = train_file.readlines()\n",
        "\n",
        "# test\n",
        "test_file = open('test.ft.txt')\n",
        "test_data = test_file.readlines()"
      ],
      "execution_count": 0,
      "outputs": []
    },
    {
      "cell_type": "code",
      "metadata": {
        "id": "XSErzq6BH1UO",
        "colab_type": "code",
        "outputId": "3331aba1-27ef-484a-fa0b-77e57b640447",
        "colab": {
          "base_uri": "https://localhost:8080/",
          "height": 105
        }
      },
      "source": [
        "# check & look at train data\n",
        "train_data[1:5]"
      ],
      "execution_count": 0,
      "outputs": [
        {
          "output_type": "execute_result",
          "data": {
            "text/plain": [
              "[\"__label__2 The best soundtrack ever to anything.: I'm reading a lot of reviews saying that this is the best 'game soundtrack' and I figured that I'd write a review to disagree a bit. This in my opinino is Yasunori Mitsuda's ultimate masterpiece. The music is timeless and I'm been listening to it for years now and its beauty simply refuses to fade.The price tag on this is pretty staggering I must say, but if you are going to buy any cd for this much money, this is the only one that I feel would be worth every penny.\\n\",\n",
              " '__label__2 Amazing!: This soundtrack is my favorite music of all time, hands down. The intense sadness of \"Prisoners of Fate\" (which means all the more if you\\'ve played the game) and the hope in \"A Distant Promise\" and \"Girl who Stole the Star\" have been an important inspiration to me personally throughout my teen years. The higher energy tracks like \"Chrono Cross ~ Time\\'s Scar~\", \"Time of the Dreamwatch\", and \"Chronomantique\" (indefinably remeniscent of Chrono Trigger) are all absolutely superb as well.This soundtrack is amazing music, probably the best of this composer\\'s work (I haven\\'t heard the Xenogears soundtrack, so I can\\'t say for sure), and even if you\\'ve never played the game, it would be worth twice the price to buy it.I wish I could give it 6 stars.\\n',\n",
              " \"__label__2 Excellent Soundtrack: I truly like this soundtrack and I enjoy video game music. I have played this game and most of the music on here I enjoy and it's truly relaxing and peaceful.On disk one. my favorites are Scars Of Time, Between Life and Death, Forest Of Illusion, Fortress of Ancient Dragons, Lost Fragment, and Drowned Valley.Disk Two: The Draggons, Galdorb - Home, Chronomantique, Prisoners of Fate, Gale, and my girlfriend likes ZelbessDisk Three: The best of the three. Garden Of God, Chronopolis, Fates, Jellyfish sea, Burning Orphange, Dragon's Prayer, Tower Of Stars, Dragon God, and Radical Dreamers - Unstealable Jewel.Overall, this is a excellent soundtrack and should be brought by those that like video game music.Xander Cross\\n\",\n",
              " \"__label__2 Remember, Pull Your Jaw Off The Floor After Hearing it: If you've played the game, you know how divine the music is! Every single song tells a story of the game, it's that good! The greatest songs are without a doubt, Chrono Cross: Time's Scar, Magical Dreamers: The Wind, The Stars, and the Sea and Radical Dreamers: Unstolen Jewel. (Translation varies) This music is perfect if you ask me, the best it can be. Yasunori Mitsuda just poured his heart on and wrote it down on paper.\\n\"]"
            ]
          },
          "metadata": {
            "tags": []
          },
          "execution_count": 21
        }
      ]
    },
    {
      "cell_type": "code",
      "metadata": {
        "id": "w0qCW3FkUJGv",
        "colab_type": "code",
        "outputId": "4867595f-7161-44d8-f967-2e9427ac108c",
        "colab": {
          "base_uri": "https://localhost:8080/",
          "height": 105
        }
      },
      "source": [
        "# check & look at test data\n",
        "test_data[1:5]"
      ],
      "execution_count": 0,
      "outputs": [
        {
          "output_type": "execute_result",
          "data": {
            "text/plain": [
              "[\"__label__2 One of the best game music soundtracks - for a game I didn't really play: Despite the fact that I have only played a small portion of the game, the music I heard (plus the connection to Chrono Trigger which was great as well) led me to purchase the soundtrack, and it remains one of my favorite albums. There is an incredible mix of fun, epic, and emotional songs. Those sad and beautiful tracks I especially like, as there's not too many of those kinds of songs in my other video game soundtracks. I must admit that one of the songs (Life-A Distant Promise) has brought tears to my eyes on many occasions.My one complaint about this soundtrack is that they use guitar fretting effects in many of the songs, which I find distracting. But even if those weren't included I would still consider the collection worth it.\\n\",\n",
              " '__label__1 Batteries died within a year ...: I bought this charger in Jul 2003 and it worked OK for a while. The design is nice and convenient. However, after about a year, the batteries would not hold a charge. Might as well just get alkaline disposables, or look elsewhere for a charger that comes with batteries that have better staying power.\\n',\n",
              " \"__label__2 works fine, but Maha Energy is better: Check out Maha Energy's website. Their Powerex MH-C204F charger works in 100 minutes for rapid charge, with option for slower charge (better for batteries). And they have 2200 mAh batteries.\\n\",\n",
              " \"__label__2 Great for the non-audiophile: Reviewed quite a bit of the combo players and was hesitant due to unfavorable reviews and size of machines. I am weaning off my VHS collection, but don't want to replace them with DVD's. This unit is well built, easy to setup and resolution and special effects (no progressive scan for HDTV owners) suitable for many people looking for a versatile product.Cons- No universal remote.\\n\"]"
            ]
          },
          "metadata": {
            "tags": []
          },
          "execution_count": 22
        }
      ]
    },
    {
      "cell_type": "code",
      "metadata": {
        "id": "kFJ-uISFHBJm",
        "colab_type": "code",
        "outputId": "539c17af-9cc5-42e0-8a89-b11f9f9fef7d",
        "colab": {
          "base_uri": "https://localhost:8080/",
          "height": 204
        }
      },
      "source": [
        "# data preprocessing\n",
        "data = pd.DataFrame(train_data)\n",
        "data.head()"
      ],
      "execution_count": 0,
      "outputs": [
        {
          "output_type": "execute_result",
          "data": {
            "text/html": [
              "<div>\n",
              "<style scoped>\n",
              "    .dataframe tbody tr th:only-of-type {\n",
              "        vertical-align: middle;\n",
              "    }\n",
              "\n",
              "    .dataframe tbody tr th {\n",
              "        vertical-align: top;\n",
              "    }\n",
              "\n",
              "    .dataframe thead th {\n",
              "        text-align: right;\n",
              "    }\n",
              "</style>\n",
              "<table border=\"1\" class=\"dataframe\">\n",
              "  <thead>\n",
              "    <tr style=\"text-align: right;\">\n",
              "      <th></th>\n",
              "      <th>0</th>\n",
              "    </tr>\n",
              "  </thead>\n",
              "  <tbody>\n",
              "    <tr>\n",
              "      <th>0</th>\n",
              "      <td>__label__2 Stuning even for the non-gamer: Thi...</td>\n",
              "    </tr>\n",
              "    <tr>\n",
              "      <th>1</th>\n",
              "      <td>__label__2 The best soundtrack ever to anythin...</td>\n",
              "    </tr>\n",
              "    <tr>\n",
              "      <th>2</th>\n",
              "      <td>__label__2 Amazing!: This soundtrack is my fav...</td>\n",
              "    </tr>\n",
              "    <tr>\n",
              "      <th>3</th>\n",
              "      <td>__label__2 Excellent Soundtrack: I truly like ...</td>\n",
              "    </tr>\n",
              "    <tr>\n",
              "      <th>4</th>\n",
              "      <td>__label__2 Remember, Pull Your Jaw Off The Flo...</td>\n",
              "    </tr>\n",
              "  </tbody>\n",
              "</table>\n",
              "</div>"
            ],
            "text/plain": [
              "                                                   0\n",
              "0  __label__2 Stuning even for the non-gamer: Thi...\n",
              "1  __label__2 The best soundtrack ever to anythin...\n",
              "2  __label__2 Amazing!: This soundtrack is my fav...\n",
              "3  __label__2 Excellent Soundtrack: I truly like ...\n",
              "4  __label__2 Remember, Pull Your Jaw Off The Flo..."
            ]
          },
          "metadata": {
            "tags": []
          },
          "execution_count": 23
        }
      ]
    },
    {
      "cell_type": "code",
      "metadata": {
        "id": "EE2enTlgUtDy",
        "colab_type": "code",
        "colab": {}
      },
      "source": [
        "# data preprocessing\n",
        "data.to_csv(\"train.txt\", index=False, sep=' ', header=False, quoting=csv.QUOTE_NONE, quotechar=\"\", escapechar=\" \")"
      ],
      "execution_count": 0,
      "outputs": []
    },
    {
      "cell_type": "code",
      "metadata": {
        "id": "2T5Vwmb7U8tH",
        "colab_type": "code",
        "colab": {}
      },
      "source": [
        "# removing  __label__1 / __label__2 from the test set\n",
        "test_clean = [w.replace('__label__2 ', '') for w in test_data]\n",
        "test_clean = [w.replace('__label__1 ', '') for w in test_clean]"
      ],
      "execution_count": 0,
      "outputs": []
    },
    {
      "cell_type": "code",
      "metadata": {
        "id": "75ChbEuVVNnP",
        "colab_type": "code",
        "outputId": "31700e4b-4684-4566-b734-9f4877df0d9a",
        "colab": {
          "base_uri": "https://localhost:8080/",
          "height": 105
        }
      },
      "source": [
        "# check\n",
        "test_clean[1:5]"
      ],
      "execution_count": 0,
      "outputs": [
        {
          "output_type": "execute_result",
          "data": {
            "text/plain": [
              "[\"One of the best game music soundtracks - for a game I didn't really play: Despite the fact that I have only played a small portion of the game, the music I heard (plus the connection to Chrono Trigger which was great as well) led me to purchase the soundtrack, and it remains one of my favorite albums. There is an incredible mix of fun, epic, and emotional songs. Those sad and beautiful tracks I especially like, as there's not too many of those kinds of songs in my other video game soundtracks. I must admit that one of the songs (Life-A Distant Promise) has brought tears to my eyes on many occasions.My one complaint about this soundtrack is that they use guitar fretting effects in many of the songs, which I find distracting. But even if those weren't included I would still consider the collection worth it.\\n\",\n",
              " 'Batteries died within a year ...: I bought this charger in Jul 2003 and it worked OK for a while. The design is nice and convenient. However, after about a year, the batteries would not hold a charge. Might as well just get alkaline disposables, or look elsewhere for a charger that comes with batteries that have better staying power.\\n',\n",
              " \"works fine, but Maha Energy is better: Check out Maha Energy's website. Their Powerex MH-C204F charger works in 100 minutes for rapid charge, with option for slower charge (better for batteries). And they have 2200 mAh batteries.\\n\",\n",
              " \"Great for the non-audiophile: Reviewed quite a bit of the combo players and was hesitant due to unfavorable reviews and size of machines. I am weaning off my VHS collection, but don't want to replace them with DVD's. This unit is well built, easy to setup and resolution and special effects (no progressive scan for HDTV owners) suitable for many people looking for a versatile product.Cons- No universal remote.\\n\"]"
            ]
          },
          "metadata": {
            "tags": []
          },
          "execution_count": 26
        }
      ]
    },
    {
      "cell_type": "code",
      "metadata": {
        "id": "WP0mi8-DdFht",
        "colab_type": "code",
        "colab": {}
      },
      "source": [
        "# removing  __label__1 / __label__2 from the train set\n",
        "train_clean = [w.replace('__label__2 ', '') for w in train_data]\n",
        "train_clean = [w.replace('__label__1 ', '') for w in train_clean]"
      ],
      "execution_count": 0,
      "outputs": []
    },
    {
      "cell_type": "markdown",
      "metadata": {
        "id": "gW9m2DajbezV",
        "colab_type": "text"
      },
      "source": [
        "**Target Metric**\n",
        "\n",
        "\n",
        "For the target metric I choose F1 score as it consideres both precision and recall and gives a more holistic understanding of model's performance"
      ]
    },
    {
      "cell_type": "markdown",
      "metadata": {
        "id": "ANx_xao-VV7j",
        "colab_type": "text"
      },
      "source": [
        "**Fasttext Modelling**"
      ]
    },
    {
      "cell_type": "code",
      "metadata": {
        "id": "pO4l1xSPVW4L",
        "colab_type": "code",
        "colab": {}
      },
      "source": [
        "# fasttext model\n",
        "model = fasttext.train_supervised('train.txt',label_prefix='__label__', thread=4, epoch = 15)"
      ],
      "execution_count": 0,
      "outputs": []
    },
    {
      "cell_type": "code",
      "metadata": {
        "id": "l0u8z4UySMHP",
        "colab_type": "code",
        "colab": {}
      },
      "source": [
        "# fasttext model predicting \n",
        "pred = model.predict(test_clean)"
      ],
      "execution_count": 0,
      "outputs": []
    },
    {
      "cell_type": "code",
      "metadata": {
        "id": "mI8mL2rRVcvD",
        "colab_type": "code",
        "outputId": "bdd67d98-fd3c-4298-d504-ab7efaaabc84",
        "colab": {
          "base_uri": "https://localhost:8080/",
          "height": 51
        }
      },
      "source": [
        "# check the predictions\n",
        "print(pred[0][0], ': predicted')\n",
        "print(pred[0][1], ': probability score')"
      ],
      "execution_count": 0,
      "outputs": [
        {
          "output_type": "stream",
          "text": [
            "['__label__2'] : predicted\n",
            "['__label__2'] : probability score\n"
          ],
          "name": "stdout"
        }
      ]
    },
    {
      "cell_type": "code",
      "metadata": {
        "id": "Uuh9DsQZWrML",
        "colab_type": "code",
        "colab": {}
      },
      "source": [
        "# recoding to 0/1 system \n",
        "labels = [0 if x.split(' ')[0] == '__label__1' else 1 for x in test_data]\n",
        "pred_labels = [0 if x == ['__label__1'] else 1 for x in pred[0]]"
      ],
      "execution_count": 0,
      "outputs": []
    },
    {
      "cell_type": "code",
      "metadata": {
        "id": "tZvWgvFKSv6J",
        "colab_type": "code",
        "outputId": "1c2568bc-211d-4d15-a2ff-3b4736c4c5db",
        "colab": {
          "base_uri": "https://localhost:8080/",
          "height": 34
        }
      },
      "source": [
        "# run the accuracy measure. \n",
        "print(f1_score(labels, pred_labels))"
      ],
      "execution_count": 0,
      "outputs": [
        {
          "output_type": "stream",
          "text": [
            "0.9168198517918282\n"
          ],
          "name": "stdout"
        }
      ]
    },
    {
      "cell_type": "markdown",
      "metadata": {
        "id": "LXA5Gc-dcJ85",
        "colab_type": "text"
      },
      "source": [
        "**Hard baseline** \n",
        "\n",
        "*Count Vectorizer + SVM*"
      ]
    },
    {
      "cell_type": "code",
      "metadata": {
        "id": "k8nvUdPA20DH",
        "colab_type": "code",
        "colab": {}
      },
      "source": [
        "# creating train DF\n",
        "data = pd.DataFrame(train_clean)"
      ],
      "execution_count": 0,
      "outputs": []
    },
    {
      "cell_type": "code",
      "metadata": {
        "id": "RtYUlMGY3Jei",
        "colab_type": "code",
        "colab": {}
      },
      "source": [
        "# converting 1 = positive, 0 = negative\n",
        "# creating DF\n",
        "train_labels = [0 if x.split(' ')[0] == '__label__1' else 1 for x in train_data]\n",
        "text_lbl = pd.DataFrame(train_labels)"
      ],
      "execution_count": 0,
      "outputs": []
    },
    {
      "cell_type": "code",
      "metadata": {
        "id": "YHGbLmbJCVk2",
        "colab_type": "code",
        "outputId": "ed267d04-f08f-4890-a8e2-17982af0c4b2",
        "colab": {
          "base_uri": "https://localhost:8080/",
          "height": 204
        }
      },
      "source": [
        "# final train DF\n",
        "final_train_df = pd.concat([text_lbl, data],axis=1)\n",
        "final_train_df.columns=['label','text']\n",
        "final_train_df.head()"
      ],
      "execution_count": 7,
      "outputs": [
        {
          "output_type": "execute_result",
          "data": {
            "text/html": [
              "<div>\n",
              "<style scoped>\n",
              "    .dataframe tbody tr th:only-of-type {\n",
              "        vertical-align: middle;\n",
              "    }\n",
              "\n",
              "    .dataframe tbody tr th {\n",
              "        vertical-align: top;\n",
              "    }\n",
              "\n",
              "    .dataframe thead th {\n",
              "        text-align: right;\n",
              "    }\n",
              "</style>\n",
              "<table border=\"1\" class=\"dataframe\">\n",
              "  <thead>\n",
              "    <tr style=\"text-align: right;\">\n",
              "      <th></th>\n",
              "      <th>label</th>\n",
              "      <th>text</th>\n",
              "    </tr>\n",
              "  </thead>\n",
              "  <tbody>\n",
              "    <tr>\n",
              "      <th>0</th>\n",
              "      <td>1</td>\n",
              "      <td>Stuning even for the non-gamer: This sound tra...</td>\n",
              "    </tr>\n",
              "    <tr>\n",
              "      <th>1</th>\n",
              "      <td>1</td>\n",
              "      <td>The best soundtrack ever to anything.: I'm rea...</td>\n",
              "    </tr>\n",
              "    <tr>\n",
              "      <th>2</th>\n",
              "      <td>1</td>\n",
              "      <td>Amazing!: This soundtrack is my favorite music...</td>\n",
              "    </tr>\n",
              "    <tr>\n",
              "      <th>3</th>\n",
              "      <td>1</td>\n",
              "      <td>Excellent Soundtrack: I truly like this soundt...</td>\n",
              "    </tr>\n",
              "    <tr>\n",
              "      <th>4</th>\n",
              "      <td>1</td>\n",
              "      <td>Remember, Pull Your Jaw Off The Floor After He...</td>\n",
              "    </tr>\n",
              "  </tbody>\n",
              "</table>\n",
              "</div>"
            ],
            "text/plain": [
              "   label                                               text\n",
              "0      1  Stuning even for the non-gamer: This sound tra...\n",
              "1      1  The best soundtrack ever to anything.: I'm rea...\n",
              "2      1  Amazing!: This soundtrack is my favorite music...\n",
              "3      1  Excellent Soundtrack: I truly like this soundt...\n",
              "4      1  Remember, Pull Your Jaw Off The Floor After He..."
            ]
          },
          "metadata": {
            "tags": []
          },
          "execution_count": 7
        }
      ]
    },
    {
      "cell_type": "code",
      "metadata": {
        "id": "f_s8cTezplgz",
        "colab_type": "code",
        "colab": {}
      },
      "source": [
        "# preprocessing test DF\n",
        "data_test = pd.DataFrame(test_clean)"
      ],
      "execution_count": 0,
      "outputs": []
    },
    {
      "cell_type": "code",
      "metadata": {
        "id": "kIrvBUjipQgT",
        "colab_type": "code",
        "colab": {}
      },
      "source": [
        "# preprocessing test DF\n",
        "test_labels = [0 if x.split(' ')[0] == '__label__1' else 1 for x in test_data]\n",
        "text_lbl_test = pd.DataFrame(test_labels)"
      ],
      "execution_count": 0,
      "outputs": []
    },
    {
      "cell_type": "code",
      "metadata": {
        "id": "s_8ppakrpXZ8",
        "colab_type": "code",
        "outputId": "997cbf76-11a8-4bfc-c425-73c8c4f2dba0",
        "colab": {
          "base_uri": "https://localhost:8080/",
          "height": 204
        }
      },
      "source": [
        "# creating test DF\n",
        "final_test_df = pd.concat([text_lbl_test,data_test],axis=1)\n",
        "final_test_df.columns=['label','text']\n",
        "final_test_df.head()"
      ],
      "execution_count": 10,
      "outputs": [
        {
          "output_type": "execute_result",
          "data": {
            "text/html": [
              "<div>\n",
              "<style scoped>\n",
              "    .dataframe tbody tr th:only-of-type {\n",
              "        vertical-align: middle;\n",
              "    }\n",
              "\n",
              "    .dataframe tbody tr th {\n",
              "        vertical-align: top;\n",
              "    }\n",
              "\n",
              "    .dataframe thead th {\n",
              "        text-align: right;\n",
              "    }\n",
              "</style>\n",
              "<table border=\"1\" class=\"dataframe\">\n",
              "  <thead>\n",
              "    <tr style=\"text-align: right;\">\n",
              "      <th></th>\n",
              "      <th>label</th>\n",
              "      <th>text</th>\n",
              "    </tr>\n",
              "  </thead>\n",
              "  <tbody>\n",
              "    <tr>\n",
              "      <th>0</th>\n",
              "      <td>1</td>\n",
              "      <td>Great CD: My lovely Pat has one of the GREAT v...</td>\n",
              "    </tr>\n",
              "    <tr>\n",
              "      <th>1</th>\n",
              "      <td>1</td>\n",
              "      <td>One of the best game music soundtracks - for a...</td>\n",
              "    </tr>\n",
              "    <tr>\n",
              "      <th>2</th>\n",
              "      <td>0</td>\n",
              "      <td>Batteries died within a year ...: I bought thi...</td>\n",
              "    </tr>\n",
              "    <tr>\n",
              "      <th>3</th>\n",
              "      <td>1</td>\n",
              "      <td>works fine, but Maha Energy is better: Check o...</td>\n",
              "    </tr>\n",
              "    <tr>\n",
              "      <th>4</th>\n",
              "      <td>1</td>\n",
              "      <td>Great for the non-audiophile: Reviewed quite a...</td>\n",
              "    </tr>\n",
              "  </tbody>\n",
              "</table>\n",
              "</div>"
            ],
            "text/plain": [
              "   label                                               text\n",
              "0      1  Great CD: My lovely Pat has one of the GREAT v...\n",
              "1      1  One of the best game music soundtracks - for a...\n",
              "2      0  Batteries died within a year ...: I bought thi...\n",
              "3      1  works fine, but Maha Energy is better: Check o...\n",
              "4      1  Great for the non-audiophile: Reviewed quite a..."
            ]
          },
          "metadata": {
            "tags": []
          },
          "execution_count": 10
        }
      ]
    },
    {
      "cell_type": "code",
      "metadata": {
        "id": "vlJfMLjTHstt",
        "colab_type": "code",
        "colab": {}
      },
      "source": [
        "# defining function for text cleaning\n",
        "def process_text(data): \n",
        "    data_low = data.str.lower()\n",
        "    data_punct = data_low.apply(lambda s: s.translate(str.maketrans('', '', string.punctuation)))\n",
        "    data_nostop=[word for word in data_punct if word not in stopwords.words('english')]\n",
        "    return data_nostop"
      ],
      "execution_count": 0,
      "outputs": []
    },
    {
      "cell_type": "code",
      "metadata": {
        "id": "vIqIBdPfHDwF",
        "colab_type": "code",
        "colab": {}
      },
      "source": [
        "# applying function for text cleaning for train set\n",
        "final_train_df['processed_text'] = process_text(final_train_df['text'])"
      ],
      "execution_count": 0,
      "outputs": []
    },
    {
      "cell_type": "code",
      "metadata": {
        "id": "hObhmW18IKiL",
        "colab_type": "code",
        "colab": {
          "base_uri": "https://localhost:8080/",
          "height": 204
        },
        "outputId": "783d8486-0086-4912-b846-0b268ff0c9a2"
      },
      "source": [
        "final_train_df.head()"
      ],
      "execution_count": 13,
      "outputs": [
        {
          "output_type": "execute_result",
          "data": {
            "text/html": [
              "<div>\n",
              "<style scoped>\n",
              "    .dataframe tbody tr th:only-of-type {\n",
              "        vertical-align: middle;\n",
              "    }\n",
              "\n",
              "    .dataframe tbody tr th {\n",
              "        vertical-align: top;\n",
              "    }\n",
              "\n",
              "    .dataframe thead th {\n",
              "        text-align: right;\n",
              "    }\n",
              "</style>\n",
              "<table border=\"1\" class=\"dataframe\">\n",
              "  <thead>\n",
              "    <tr style=\"text-align: right;\">\n",
              "      <th></th>\n",
              "      <th>label</th>\n",
              "      <th>text</th>\n",
              "      <th>processed_text</th>\n",
              "    </tr>\n",
              "  </thead>\n",
              "  <tbody>\n",
              "    <tr>\n",
              "      <th>0</th>\n",
              "      <td>1</td>\n",
              "      <td>Stuning even for the non-gamer: This sound tra...</td>\n",
              "      <td>stuning even for the nongamer this sound track...</td>\n",
              "    </tr>\n",
              "    <tr>\n",
              "      <th>1</th>\n",
              "      <td>1</td>\n",
              "      <td>The best soundtrack ever to anything.: I'm rea...</td>\n",
              "      <td>the best soundtrack ever to anything im readin...</td>\n",
              "    </tr>\n",
              "    <tr>\n",
              "      <th>2</th>\n",
              "      <td>1</td>\n",
              "      <td>Amazing!: This soundtrack is my favorite music...</td>\n",
              "      <td>amazing this soundtrack is my favorite music o...</td>\n",
              "    </tr>\n",
              "    <tr>\n",
              "      <th>3</th>\n",
              "      <td>1</td>\n",
              "      <td>Excellent Soundtrack: I truly like this soundt...</td>\n",
              "      <td>excellent soundtrack i truly like this soundtr...</td>\n",
              "    </tr>\n",
              "    <tr>\n",
              "      <th>4</th>\n",
              "      <td>1</td>\n",
              "      <td>Remember, Pull Your Jaw Off The Floor After He...</td>\n",
              "      <td>remember pull your jaw off the floor after hea...</td>\n",
              "    </tr>\n",
              "  </tbody>\n",
              "</table>\n",
              "</div>"
            ],
            "text/plain": [
              "   label  ...                                     processed_text\n",
              "0      1  ...  stuning even for the nongamer this sound track...\n",
              "1      1  ...  the best soundtrack ever to anything im readin...\n",
              "2      1  ...  amazing this soundtrack is my favorite music o...\n",
              "3      1  ...  excellent soundtrack i truly like this soundtr...\n",
              "4      1  ...  remember pull your jaw off the floor after hea...\n",
              "\n",
              "[5 rows x 3 columns]"
            ]
          },
          "metadata": {
            "tags": []
          },
          "execution_count": 13
        }
      ]
    },
    {
      "cell_type": "code",
      "metadata": {
        "id": "CmIMw4qeQHEh",
        "colab_type": "code",
        "colab": {}
      },
      "source": [
        "#applying function for text cleaning for test set\n",
        "final_test_df['processed_text'] = process_text(final_test_df['text'])"
      ],
      "execution_count": 0,
      "outputs": []
    },
    {
      "cell_type": "code",
      "metadata": {
        "id": "fjmmmijmQMv1",
        "colab_type": "code",
        "colab": {
          "base_uri": "https://localhost:8080/",
          "height": 204
        },
        "outputId": "0388d26a-2eed-4604-c627-fef7db5edaef"
      },
      "source": [
        "final_test_df.head()"
      ],
      "execution_count": 15,
      "outputs": [
        {
          "output_type": "execute_result",
          "data": {
            "text/html": [
              "<div>\n",
              "<style scoped>\n",
              "    .dataframe tbody tr th:only-of-type {\n",
              "        vertical-align: middle;\n",
              "    }\n",
              "\n",
              "    .dataframe tbody tr th {\n",
              "        vertical-align: top;\n",
              "    }\n",
              "\n",
              "    .dataframe thead th {\n",
              "        text-align: right;\n",
              "    }\n",
              "</style>\n",
              "<table border=\"1\" class=\"dataframe\">\n",
              "  <thead>\n",
              "    <tr style=\"text-align: right;\">\n",
              "      <th></th>\n",
              "      <th>label</th>\n",
              "      <th>text</th>\n",
              "      <th>processed_text</th>\n",
              "    </tr>\n",
              "  </thead>\n",
              "  <tbody>\n",
              "    <tr>\n",
              "      <th>0</th>\n",
              "      <td>1</td>\n",
              "      <td>Great CD: My lovely Pat has one of the GREAT v...</td>\n",
              "      <td>great cd my lovely pat has one of the great vo...</td>\n",
              "    </tr>\n",
              "    <tr>\n",
              "      <th>1</th>\n",
              "      <td>1</td>\n",
              "      <td>One of the best game music soundtracks - for a...</td>\n",
              "      <td>one of the best game music soundtracks  for a ...</td>\n",
              "    </tr>\n",
              "    <tr>\n",
              "      <th>2</th>\n",
              "      <td>0</td>\n",
              "      <td>Batteries died within a year ...: I bought thi...</td>\n",
              "      <td>batteries died within a year  i bought this ch...</td>\n",
              "    </tr>\n",
              "    <tr>\n",
              "      <th>3</th>\n",
              "      <td>1</td>\n",
              "      <td>works fine, but Maha Energy is better: Check o...</td>\n",
              "      <td>works fine but maha energy is better check out...</td>\n",
              "    </tr>\n",
              "    <tr>\n",
              "      <th>4</th>\n",
              "      <td>1</td>\n",
              "      <td>Great for the non-audiophile: Reviewed quite a...</td>\n",
              "      <td>great for the nonaudiophile reviewed quite a b...</td>\n",
              "    </tr>\n",
              "  </tbody>\n",
              "</table>\n",
              "</div>"
            ],
            "text/plain": [
              "   label  ...                                     processed_text\n",
              "0      1  ...  great cd my lovely pat has one of the great vo...\n",
              "1      1  ...  one of the best game music soundtracks  for a ...\n",
              "2      0  ...  batteries died within a year  i bought this ch...\n",
              "3      1  ...  works fine but maha energy is better check out...\n",
              "4      1  ...  great for the nonaudiophile reviewed quite a b...\n",
              "\n",
              "[5 rows x 3 columns]"
            ]
          },
          "metadata": {
            "tags": []
          },
          "execution_count": 15
        }
      ]
    },
    {
      "cell_type": "markdown",
      "metadata": {
        "id": "Iem3hMAvt9AQ",
        "colab_type": "text"
      },
      "source": [
        "*Due to RAM limitations I had to extremely minimize the number of lines in order to get just anything*"
      ]
    },
    {
      "cell_type": "code",
      "metadata": {
        "id": "bOeTkROnuatK",
        "colab_type": "code",
        "colab": {}
      },
      "source": [
        "# fighting RAM limitation\n",
        "x_train = final_train_df['processed_text'].iloc[0:100]\n",
        "x_test = final_test_df['processed_text'].iloc[0:100]\n",
        "y_train = final_train_df['label'].iloc[0:100]\n",
        "y_test = final_test_df['label'].iloc[0:100]"
      ],
      "execution_count": 0,
      "outputs": []
    },
    {
      "cell_type": "code",
      "metadata": {
        "id": "LIbxZWKQXUsu",
        "colab_type": "code",
        "colab": {}
      },
      "source": [
        "# building a classifier\n",
        "text_clf = Pipeline([('vect', CountVectorizer()), ('tfidf', TfidfTransformer()), ('clf', SVC(kernel='rbf'))])"
      ],
      "execution_count": 0,
      "outputs": []
    },
    {
      "cell_type": "code",
      "metadata": {
        "id": "HINGTtDRXowv",
        "colab_type": "code",
        "colab": {
          "base_uri": "https://localhost:8080/",
          "height": 374
        },
        "outputId": "f56794e1-a52a-4e57-e822-3abbae6d2016"
      },
      "source": [
        "# fitting a model\n",
        "text_clf.fit(x_train, y_train)"
      ],
      "execution_count": 37,
      "outputs": [
        {
          "output_type": "execute_result",
          "data": {
            "text/plain": [
              "Pipeline(memory=None,\n",
              "         steps=[('vect',\n",
              "                 CountVectorizer(analyzer='word', binary=False,\n",
              "                                 decode_error='strict',\n",
              "                                 dtype=<class 'numpy.int64'>, encoding='utf-8',\n",
              "                                 input='content', lowercase=True, max_df=1.0,\n",
              "                                 max_features=None, min_df=1,\n",
              "                                 ngram_range=(1, 1), preprocessor=None,\n",
              "                                 stop_words=None, strip_accents=None,\n",
              "                                 token_pattern='(?u)\\\\b\\\\w\\\\w+\\\\b',\n",
              "                                 tokenizer=None, vocabulary=None)),\n",
              "                ('tfidf',\n",
              "                 TfidfTransformer(norm='l2', smooth_idf=True,\n",
              "                                  sublinear_tf=False, use_idf=True)),\n",
              "                ('clf',\n",
              "                 SVC(C=1.0, break_ties=False, cache_size=200, class_weight=None,\n",
              "                     coef0=0.0, decision_function_shape='ovr', degree=3,\n",
              "                     gamma='scale', kernel='rbf', max_iter=-1,\n",
              "                     probability=False, random_state=None, shrinking=True,\n",
              "                     tol=0.001, verbose=False))],\n",
              "         verbose=False)"
            ]
          },
          "metadata": {
            "tags": []
          },
          "execution_count": 37
        }
      ]
    },
    {
      "cell_type": "code",
      "metadata": {
        "id": "eGNLJCT2YQ-1",
        "colab_type": "code",
        "colab": {}
      },
      "source": [
        "# predicting\n",
        "predicted_svm = text_clf.predict(x_test)"
      ],
      "execution_count": 0,
      "outputs": []
    },
    {
      "cell_type": "code",
      "metadata": {
        "id": "NgX0GiIfYin9",
        "colab_type": "code",
        "colab": {
          "base_uri": "https://localhost:8080/",
          "height": 34
        },
        "outputId": "09280233-123d-4f73-9549-ce95a61b0522"
      },
      "source": [
        "# evaluating F1 score\n",
        "print(f1_score(y_test, predicted_svm))"
      ],
      "execution_count": 40,
      "outputs": [
        {
          "output_type": "stream",
          "text": [
            "0.7123287671232875\n"
          ],
          "name": "stdout"
        }
      ]
    },
    {
      "cell_type": "markdown",
      "metadata": {
        "id": "KyIFkm345JYZ",
        "colab_type": "text"
      },
      "source": [
        "*Though it seems much worse than fasttext, comparison is incorrect due to severe data limitation that I forced on the model. \n",
        "On the other hand I can note that fasttext didn't need that much RAM and I was able to process whole dataset really fast*"
      ]
    },
    {
      "cell_type": "markdown",
      "metadata": {
        "id": "ofzAJbEtehhT",
        "colab_type": "text"
      },
      "source": [
        "**ANN**"
      ]
    },
    {
      "cell_type": "markdown",
      "metadata": {
        "id": "oTjLsYxK_rd7",
        "colab_type": "text"
      },
      "source": [
        "*Once again I couldn't fight against RAM, sorry*"
      ]
    },
    {
      "cell_type": "code",
      "metadata": {
        "id": "k-K8Mck94N99",
        "colab_type": "code",
        "colab": {}
      },
      "source": [
        "train_texts, val_texts, train_labels, val_labels = train_test_split(\n",
        "    x_train, y_train, random_state=0, test_size=0.2)"
      ],
      "execution_count": 0,
      "outputs": []
    },
    {
      "cell_type": "code",
      "metadata": {
        "id": "lEyzdNZb4bQb",
        "colab_type": "code",
        "colab": {}
      },
      "source": [
        "tokenizer = Tokenizer(num_words=5000)\n",
        "tokenizer.fit_on_texts(train_texts)"
      ],
      "execution_count": 0,
      "outputs": []
    },
    {
      "cell_type": "code",
      "metadata": {
        "id": "GfEn_snO4k0s",
        "colab_type": "code",
        "colab": {}
      },
      "source": [
        "test_labels = y_test\n",
        "test_texts = x_test"
      ],
      "execution_count": 0,
      "outputs": []
    },
    {
      "cell_type": "code",
      "metadata": {
        "id": "30ARoJKI4jI4",
        "colab_type": "code",
        "colab": {}
      },
      "source": [
        "train_texts = tokenizer.texts_to_sequences(train_texts)\n",
        "val_texts = tokenizer.texts_to_sequences(val_texts)\n",
        "test_texts = tokenizer.texts_to_sequences(test_texts)"
      ],
      "execution_count": 0,
      "outputs": []
    },
    {
      "cell_type": "code",
      "metadata": {
        "id": "ROMNcAsY6DrW",
        "colab_type": "code",
        "colab": {}
      },
      "source": [
        "maxlength = max(len(train_ex) for train_ex in train_texts)\n",
        "train_texts = pad_sequences(train_texts, maxlen=maxlength)\n",
        "val_texts = pad_sequences(val_texts, maxlen=maxlength)\n",
        "test_texts = pad_sequences(test_texts, maxlen=maxlength)"
      ],
      "execution_count": 0,
      "outputs": []
    },
    {
      "cell_type": "code",
      "metadata": {
        "id": "4GR8Y4OG6Sz1",
        "colab_type": "code",
        "colab": {}
      },
      "source": [
        "sequence = layers.Input(shape=(maxlength,))\n",
        "embedded = layers.Embedding(20000, 64)(sequence)\n",
        "newlayer = layers.Conv1D(32, 3, activation='relu')(embedded)\n",
        "newlayer = layers.BatchNormalization()(newlayer)\n",
        "newlayer = layers.MaxPool1D(3)(newlayer)\n",
        "newlayer = layers.Conv1D(64, 5, activation='relu')(newlayer)\n",
        "newlayer = layers.GlobalMaxPool1D()(newlayer)\n",
        "newlayer = layers.Flatten()(newlayer)\n",
        "output_layer = layers.Dense(1, activation='sigmoid')(newlayer)"
      ],
      "execution_count": 0,
      "outputs": []
    },
    {
      "cell_type": "code",
      "metadata": {
        "id": "QyP9BEGt7_1u",
        "colab_type": "code",
        "colab": {}
      },
      "source": [
        "model = models.Model(sequence, output_layer)\n",
        "model.compile(\n",
        "    optimizer='Adam',\n",
        "    loss='binary_crossentropy',\n",
        "    metrics=['binary_accuracy']\n",
        "    )"
      ],
      "execution_count": 0,
      "outputs": []
    },
    {
      "cell_type": "code",
      "metadata": {
        "id": "PpjEtVrb8AaX",
        "colab_type": "code",
        "colab": {
          "base_uri": "https://localhost:8080/",
          "height": 224
        },
        "outputId": "2db9c872-9d31-470e-956a-cb7a2da5defb"
      },
      "source": [
        "model.fit(\n",
        "    train_texts, \n",
        "    train_labels, \n",
        "    batch_size=128,\n",
        "    epochs=5,\n",
        "    validation_data=(val_texts, val_labels), )"
      ],
      "execution_count": 53,
      "outputs": [
        {
          "output_type": "stream",
          "text": [
            "Epoch 1/5\n",
            "1/1 [==============================] - 0s 37ms/step - loss: 0.0163 - binary_accuracy: 1.0000 - val_loss: 0.6935 - val_binary_accuracy: 0.5000\n",
            "Epoch 2/5\n",
            "1/1 [==============================] - 0s 41ms/step - loss: 0.0138 - binary_accuracy: 1.0000 - val_loss: 0.6935 - val_binary_accuracy: 0.5000\n",
            "Epoch 3/5\n",
            "1/1 [==============================] - 0s 36ms/step - loss: 0.0119 - binary_accuracy: 1.0000 - val_loss: 0.6936 - val_binary_accuracy: 0.5000\n",
            "Epoch 4/5\n",
            "1/1 [==============================] - 0s 36ms/step - loss: 0.0104 - binary_accuracy: 1.0000 - val_loss: 0.6936 - val_binary_accuracy: 0.5000\n",
            "Epoch 5/5\n",
            "1/1 [==============================] - 0s 36ms/step - loss: 0.0091 - binary_accuracy: 1.0000 - val_loss: 0.6936 - val_binary_accuracy: 0.5000\n"
          ],
          "name": "stdout"
        },
        {
          "output_type": "execute_result",
          "data": {
            "text/plain": [
              "<tensorflow.python.keras.callbacks.History at 0x7f372f983208>"
            ]
          },
          "metadata": {
            "tags": []
          },
          "execution_count": 53
        }
      ]
    },
    {
      "cell_type": "code",
      "metadata": {
        "id": "a1b5QaI48EDu",
        "colab_type": "code",
        "colab": {}
      },
      "source": [
        "predictions = model.predict(test_texts)"
      ],
      "execution_count": 0,
      "outputs": []
    },
    {
      "cell_type": "code",
      "metadata": {
        "id": "kj3zZpnICue2",
        "colab_type": "code",
        "colab": {}
      },
      "source": [
        "predictions1 = np.argmax(predictions, axis=1)"
      ],
      "execution_count": 0,
      "outputs": []
    },
    {
      "cell_type": "code",
      "metadata": {
        "id": "yzMNgAA6COZJ",
        "colab_type": "code",
        "colab": {
          "base_uri": "https://localhost:8080/",
          "height": 34
        },
        "outputId": "b4611209-3b50-466c-ed38-561f6d9d1fa5"
      },
      "source": [
        "print(f1_score(test_labels, predictions1 , average=\"macro\"))"
      ],
      "execution_count": 56,
      "outputs": [
        {
          "output_type": "stream",
          "text": [
            "0.31972789115646255\n"
          ],
          "name": "stdout"
        }
      ]
    },
    {
      "cell_type": "markdown",
      "metadata": {
        "id": "G8fW5mPxDBJf",
        "colab_type": "text"
      },
      "source": [
        "*Well, this is extremely poor! first, once again I used not the whole data but the results are worse than CountVectorizer+SVM* \n",
        "\n",
        "*I need to experiment more with the structure of the network itself*\n",
        "\n",
        "\n",
        "**Overall comment**\n",
        "\n",
        "\n",
        "*I can't exactly compare the scores as only Fasttext model was applied to the whole dataset.* \n",
        "\n",
        "*But I should say I would choose **fasttext.** After endless times of my computer showing warnig signs, restarting, me moving to collab, reading collab messages about RAM limitation & automatic restart... After 10th time it's not even funny, it's really really sad. Fasttext was indeed fast and the result of 91,6 is not that bad in relation to the small amount of time that was used to build it*"
      ]
    },
    {
      "cell_type": "code",
      "metadata": {
        "id": "ruiHopoAEiWJ",
        "colab_type": "code",
        "colab": {}
      },
      "source": [
        ""
      ],
      "execution_count": 0,
      "outputs": []
    }
  ]
}